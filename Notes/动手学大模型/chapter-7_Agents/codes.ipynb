{
 "cells": [
  {
   "cell_type": "markdown",
   "id": "21736a58",
   "metadata": {},
   "source": [
    "# 第七章：LangChain 与 LangGraph 的基础知识\n",
    "\n",
    " Agent 最重要的两个道路：\n",
    "  - Prompt Engineering Based Agent System\n",
    "  - RL强化学习优化单个模型性能上线"
   ]
  },
  {
   "cell_type": "markdown",
   "id": "95792091",
   "metadata": {},
   "source": [
    "## 1. 理解LangChain Basic"
   ]
  },
  {
   "cell_type": "code",
   "execution_count": null,
   "id": "c9ba74ae",
   "metadata": {},
   "outputs": [],
   "source": [
    "! pip install langchain"
   ]
  },
  {
   "cell_type": "code",
   "execution_count": 3,
   "id": "a014c937",
   "metadata": {},
   "outputs": [
    {
     "data": {
      "text/plain": [
       "True"
      ]
     },
     "execution_count": 3,
     "metadata": {},
     "output_type": "execute_result"
    }
   ],
   "source": [
    "from dotenv import load_dotenv\n",
    "import os\n",
    "\n",
    "load_dotenv('../../../.env')  # 路径在上面三层"
   ]
  },
  {
   "cell_type": "code",
   "execution_count": 6,
   "id": "94f930da",
   "metadata": {},
   "outputs": [],
   "source": [
    "BASE_URL = \"https://api.deepseek.com\"\n",
    "API_KEY = os.getenv('DEEPSEEK_API_KEY')\n",
    "if not API_KEY:\n",
    "    raise ValueError(\"API key not found. Please set the DEEPSEEK_API_KEY environment variable.\")\n",
    "\n",
    "deep_seek_chat_model = 'deepseek-chat'\n",
    "deep_seek_reason_model = 'deepseek-reasoner'"
   ]
  },
  {
   "cell_type": "markdown",
   "id": "02479b14",
   "metadata": {},
   "source": [
    "### 作者使用LangChain和LangGraph的经验\n",
    "- langchain\n",
    "  - init model\n",
    "  - invoke\n",
    "  - prompt template\n",
    "- Langgraph\n",
    "  - memory\n",
    "  - create_react_agent\n",
    "\n",
    "下面分享三种langchain中初始化模型的方法\n",
    "\n",
    "###  1.1-方式1：openai sdk"
   ]
  },
  {
   "cell_type": "code",
   "execution_count": null,
   "id": "d2a44ff3",
   "metadata": {},
   "outputs": [
    {
     "name": "stdout",
     "output_type": "stream",
     "text": [
      "我是DeepSeek Chat，由深度求索公司（DeepSeek）创造的智能AI助手！✨  \n",
      "\n",
      "我可以回答你的问题、帮你学习、提供建议、陪你聊天，甚至处理各种文本和文件。无论是日常疑问、专业问题，还是写作灵感，我都会尽力帮你！😊  \n",
      "\n",
      "有什么我可以帮你的吗？\n"
     ]
    }
   ],
   "source": [
    "from langchain_openai import ChatOpenAI\n",
    "from langchain_core.messages import HumanMessage\n",
    "\n",
    "llm = ChatOpenAI(\n",
    "    base_url=BASE_URL,\n",
    "    api_key=API_KEY,\n",
    "    model_name=deep_seek_chat_model,\n",
    "    temperature=0.7,\n",
    "    max_tokens=1000,\n",
    "    request_timeout=200\n",
    ")\n",
    "\n",
    "message = [HumanMessage(content=\"请用中文回答：你是谁？\")]\n",
    "\n",
    "response = llm.invoke(message)\n",
    "\n",
    "print(response.content)"
   ]
  },
  {
   "cell_type": "markdown",
   "id": "fba16e31",
   "metadata": {},
   "source": [
    "### 1.2-方式2：deeoseek模块"
   ]
  },
  {
   "cell_type": "code",
   "execution_count": 10,
   "id": "949df66d",
   "metadata": {},
   "outputs": [
    {
     "name": "stdout",
     "output_type": "stream",
     "text": [
      "好的，来一个程序员专属冷笑话：\n",
      "\n",
      "**为什么程序员总在夏天迷路？**  \n",
      "\n",
      "因为出门就进入了“无码（无码=无马路）”状态，还总是遇到“递归式绕圈”——走两步就觉得自己在循环里，最后只能靠“清除缓存”（擦汗）重启导航系统！  \n",
      "\n",
      "（🤖 温馨提示：本笑话最佳效果需配合空调使用，以防降温过度。）\n"
     ]
    }
   ],
   "source": [
    "from langchain_deepseek import ChatDeepSeek\n",
    "\n",
    "llm = ChatDeepSeek(model=deep_seek_chat_model, api_key=API_KEY)\n",
    "\n",
    "message = [HumanMessage(content=\"讲一个笑话？\")]\n",
    "response = llm.invoke(message)\n",
    "print(response.content)"
   ]
  },
  {
   "cell_type": "markdown",
   "id": "2243b693",
   "metadata": {},
   "source": [
    "### 1.3-方式3：使用langchain的统一api结构 init_chat_model"
   ]
  },
  {
   "cell_type": "code",
   "execution_count": 12,
   "id": "9b38066c",
   "metadata": {},
   "outputs": [
    {
     "name": "stdout",
     "output_type": "stream",
     "text": [
      "好的，来一个程序员专属冷笑话：\n",
      "\n",
      "**为什么程序员总在夏天分不清圣诞节和万圣节？**\n",
      "\n",
      "因为…… Dec 25（圣诞节）和 Oct 31（万圣节）在他们眼里都是——  \n",
      "**\"25 == 31\"** （返回 `false`）😂  \n",
      "\n",
      "（注：Dec是12月，但程序员会误读成十进制；Oct是8月，但程序员会当成八进制。25在十进制确实是25，而31在八进制等于十进制的……25！所以程序员眼里这俩节日“相等”了。）\n"
     ]
    }
   ],
   "source": [
    "from  langchain.chat_models import init_chat_model\n",
    "\n",
    "llm3 = init_chat_model(deep_seek_chat_model, api_key=API_KEY, base_url=BASE_URL)\n",
    "\n",
    "message = [HumanMessage(content=\"讲一个笑话？\")]\n",
    "response = llm3.invoke(message)\n",
    "print(response.content)\n"
   ]
  },
  {
   "cell_type": "markdown",
   "id": "7d1949d9",
   "metadata": {},
   "source": [
    "### 总结：\n",
    "1. 统一的用 init_chat_model / ChatXXXModel 初始化一个 chat model\n",
    "2. 统一的用invoke(messages) or invoke({'xx':'xx'})\n",
    "3. 我们可以用PromptTemplate构建结构化的模板\n",
    "4. （不重点），结构化输出"
   ]
  },
  {
   "cell_type": "markdown",
   "id": "b16341e8",
   "metadata": {},
   "source": [
    "## 2. 了解LangChain Chain"
   ]
  },
  {
   "cell_type": "markdown",
   "id": "c973f8e5",
   "metadata": {},
   "source": [
    "### 2.1 chat agent using langchain"
   ]
  },
  {
   "cell_type": "code",
   "execution_count": 13,
   "id": "1f713e44",
   "metadata": {},
   "outputs": [
    {
     "data": {
      "text/plain": [
       "[SystemMessage(content='You are a helpful assistant.', additional_kwargs={}, response_metadata={}),\n",
       " HumanMessage(content='帮我写一个和Python编程相关的笑话。', additional_kwargs={}, response_metadata={})]"
      ]
     },
     "execution_count": 13,
     "metadata": {},
     "output_type": "execute_result"
    }
   ],
   "source": [
    "from langchain_core.prompts import ChatPromptTemplate\n",
    "\n",
    "prompt_template = ChatPromptTemplate(\n",
    "    [\n",
    "        (\"system\", \"You are a helpful assistant.\"),\n",
    "        (\"human\", \"帮我写一个和{topic}相关的笑话。\"),\n",
    "    ]\n",
    ")\n",
    "\n",
    "prompt_template.invoke({\"topic\": \"Python编程\"}).to_messages()"
   ]
  },
  {
   "cell_type": "code",
   "execution_count": 15,
   "id": "36b25e8f",
   "metadata": {},
   "outputs": [
    {
     "name": "stdout",
     "output_type": "stream",
     "text": [
      "当然！这是一个关于 Python 编程的笑话：\n",
      "\n",
      "---\n",
      "\n",
      "**笑话标题：** Python 的无限循环  \n",
      "\n",
      "程序员 A： \"我写了一个无限循环，停不下来了！\"  \n",
      "程序员 B： \"用 `Ctrl + C` 啊！\"  \n",
      "程序员 A： \"试过了，但 Python 说那是 'KeyboardInterrupt'，不是 'CtrlInterrupt'！\"  \n",
      "\n",
      "---\n",
      "\n",
      "希望你喜欢！如果有其他主题或风格的需求，可以告诉我调整~ 😄\n"
     ]
    }
   ],
   "source": [
    "basic_chain = prompt_template | llm3\n",
    "\n",
    "response = basic_chain.invoke({\"topic\": \"Python编程\"})\n",
    "\n",
    "print(response.content)\n"
   ]
  },
  {
   "cell_type": "markdown",
   "id": "b0319c0d",
   "metadata": {},
   "source": [
    "### 2.2 结构化输出"
   ]
  },
  {
   "cell_type": "code",
   "execution_count": 17,
   "id": "bb2e3d65",
   "metadata": {},
   "outputs": [
    {
     "name": "stdout",
     "output_type": "stream",
     "text": [
      "setup='Why did the Python programmer prefer snakes over other pets?' punchline='Because they already knew how to handle them!'\n"
     ]
    }
   ],
   "source": [
    "from pydantic import BaseModel, Field\n",
    "\n",
    "class Joke(BaseModel):\n",
    "    \"\"\"A simple joke model.\"\"\"\n",
    "    setup: str = Field(..., description=\"The setup of the joke\")\n",
    "    punchline: str = Field(..., description=\"The punchline of the joke\")\n",
    "\n",
    "joke_chain = prompt_template | llm3.with_structured_output(Joke)\n",
    "\n",
    "joke_response = joke_chain.invoke({\"topic\": \"Python编程\"})\n",
    "\n",
    "print(joke_response)"
   ]
  },
  {
   "cell_type": "markdown",
   "id": "f446e057",
   "metadata": {},
   "source": [
    "## 3. LangGraph Memory"
   ]
  },
  {
   "cell_type": "code",
   "execution_count": 67,
   "id": "039f33fe",
   "metadata": {},
   "outputs": [],
   "source": [
    "from langgraph.checkpoint.memory import MemorySaver\n",
    "from langgraph.graph import START, MessagesState, StateGraph, END\n",
    "\n",
    "workflow = StateGraph(state_schema=MessagesState)\n",
    "\n",
    "def call_model(state: MessagesState):\n",
    "    \"\"\"Call the model with the current state.\"\"\"\n",
    "    response = llm3.invoke(state[\"messages\"])\n",
    "    return {\"messages\": response}\n",
    "\n",
    "workflow.add_node('call_model', call_model)\n",
    "workflow.add_edge(START, 'call_model')\n",
    "\n",
    "memory = MemorySaver()\n",
    "graph = workflow.compile(checkpointer=memory)"
   ]
  },
  {
   "cell_type": "code",
   "execution_count": 43,
   "id": "19b60dfc",
   "metadata": {},
   "outputs": [
    {
     "name": "stdout",
     "output_type": "stream",
     "text": [
      "==================================\u001b[1m Ai Message \u001b[0m==================================\n",
      "\n",
      "Hi Shizhong! Nice to meet you. 😊 How can I help you today?\n"
     ]
    }
   ],
   "source": [
    "config = {\"configurable\": {\"thread_id\":\"abc_123\"}}\n",
    "query = \"Hi, I am shizhong!\"\n",
    "\n",
    "input_messages = [HumanMessage(query)]\n",
    "output = graph.invoke({\"messages\": input_messages}, config=config)\n",
    "output['messages'][-1].pretty_print()"
   ]
  },
  {
   "cell_type": "code",
   "execution_count": 44,
   "id": "62526a5d",
   "metadata": {},
   "outputs": [
    {
     "name": "stdout",
     "output_type": "stream",
     "text": [
      "==================================\u001b[1m Ai Message \u001b[0m==================================\n",
      "\n",
      "你是 **shizhong**（“始终”或“时钟”的拼音，也可能是你的名字或昵称）——刚刚你就是这样向我介绍自己的呀！😊  \n",
      "\n",
      "如果这是个哲学问题（比如“我是谁？”），那我可能会说：你是此刻和我对话的独特存在，一个拥有自己故事、想法和目标的个体～ 需要我帮你探索更多吗？\n"
     ]
    }
   ],
   "source": [
    "query = \"请用中文回答：我是谁？\"\n",
    "\n",
    "input_messages = [HumanMessage(query)]\n",
    "output = graph.invoke({\"messages\": input_messages}, config=config)\n",
    "output['messages'][-1].pretty_print()"
   ]
  },
  {
   "cell_type": "markdown",
   "id": "42adb9e2",
   "metadata": {},
   "source": [
    "## 4. Agents"
   ]
  },
  {
   "cell_type": "markdown",
   "id": "250c46e8",
   "metadata": {
    "vscode": {
     "languageId": "plaintext"
    }
   },
   "source": [
    "### 4.1 Single Agent(with tool)"
   ]
  },
  {
   "cell_type": "code",
   "execution_count": 52,
   "id": "f2ad640d",
   "metadata": {},
   "outputs": [
    {
     "name": "stdout",
     "output_type": "stream",
     "text": [
      "================================\u001b[1m Human Message \u001b[0m=================================\n",
      "\n",
      "What is 2 + 3?\n",
      "==================================\u001b[1m Ai Message \u001b[0m==================================\n",
      "Tool Calls:\n",
      "  add_numbers (call_0_7c924a7d-eba3-4226-a003-7273d9d7d01b)\n",
      " Call ID: call_0_7c924a7d-eba3-4226-a003-7273d9d7d01b\n",
      "  Args:\n",
      "    a: 2\n",
      "    b: 3\n",
      "=================================\u001b[1m Tool Message \u001b[0m=================================\n",
      "Name: add_numbers\n",
      "\n",
      "5\n",
      "==================================\u001b[1m Ai Message \u001b[0m==================================\n",
      "\n",
      "The result of 2 + 3 is 5.\n"
     ]
    }
   ],
   "source": [
    "from langgraph.prebuilt import create_react_agent\n",
    "\n",
    "def add_numbers(a: int, b: int) -> int:\n",
    "    \"\"\"Add two numbers.\"\"\"\n",
    "    return a + b\n",
    "\n",
    "def multiply_numbers(a: int, b: int) -> int:\n",
    "    \"\"\"Multiply two numbers.\"\"\"\n",
    "    return a * b\n",
    "\n",
    "agent = create_react_agent(\n",
    "    tools=[add_numbers, multiply_numbers],\n",
    "    model=llm3\n",
    ")\n",
    "\n",
    "output = agent.invoke({\"messages\": [HumanMessage(\"What is 2 + 3?\")], \"config\": config})\n",
    "\n",
    "for item in output['messages']:\n",
    "    item.pretty_print()"
   ]
  },
  {
   "cell_type": "markdown",
   "id": "4e25a9d8",
   "metadata": {},
   "source": [
    "### 4.2 DeepResearch"
   ]
  },
  {
   "cell_type": "code",
   "execution_count": 61,
   "id": "d853522f",
   "metadata": {},
   "outputs": [
    {
     "name": "stdout",
     "output_type": "stream",
     "text": [
      "Requirement already satisfied: langchain_community in c:\\users\\sxf-admin\\miniconda3\\envs\\agents\\lib\\site-packages (0.3.27)\n",
      "Requirement already satisfied: langchain-core<1.0.0,>=0.3.66 in c:\\users\\sxf-admin\\miniconda3\\envs\\agents\\lib\\site-packages (from langchain_community) (0.3.68)\n",
      "Requirement already satisfied: langchain<1.0.0,>=0.3.26 in c:\\users\\sxf-admin\\miniconda3\\envs\\agents\\lib\\site-packages (from langchain_community) (0.3.26)\n",
      "Requirement already satisfied: SQLAlchemy<3,>=1.4 in c:\\users\\sxf-admin\\miniconda3\\envs\\agents\\lib\\site-packages (from langchain_community) (2.0.41)\n",
      "Requirement already satisfied: requests<3,>=2 in c:\\users\\sxf-admin\\miniconda3\\envs\\agents\\lib\\site-packages (from langchain_community) (2.32.4)\n",
      "Requirement already satisfied: PyYAML>=5.3 in c:\\users\\sxf-admin\\miniconda3\\envs\\agents\\lib\\site-packages (from langchain_community) (6.0.2)\n",
      "Requirement already satisfied: aiohttp<4.0.0,>=3.8.3 in c:\\users\\sxf-admin\\miniconda3\\envs\\agents\\lib\\site-packages (from langchain_community) (3.12.13)\n",
      "Requirement already satisfied: tenacity!=8.4.0,<10,>=8.1.0 in c:\\users\\sxf-admin\\miniconda3\\envs\\agents\\lib\\site-packages (from langchain_community) (9.1.2)\n",
      "Requirement already satisfied: dataclasses-json<0.7,>=0.5.7 in c:\\users\\sxf-admin\\miniconda3\\envs\\agents\\lib\\site-packages (from langchain_community) (0.6.7)\n",
      "Requirement already satisfied: pydantic-settings<3.0.0,>=2.4.0 in c:\\users\\sxf-admin\\miniconda3\\envs\\agents\\lib\\site-packages (from langchain_community) (2.10.1)\n",
      "Requirement already satisfied: langsmith>=0.1.125 in c:\\users\\sxf-admin\\miniconda3\\envs\\agents\\lib\\site-packages (from langchain_community) (0.4.4)\n",
      "Requirement already satisfied: httpx-sse<1.0.0,>=0.4.0 in c:\\users\\sxf-admin\\miniconda3\\envs\\agents\\lib\\site-packages (from langchain_community) (0.4.1)\n",
      "Requirement already satisfied: numpy>=1.26.2 in c:\\users\\sxf-admin\\miniconda3\\envs\\agents\\lib\\site-packages (from langchain_community) (2.3.1)\n",
      "Requirement already satisfied: aiohappyeyeballs>=2.5.0 in c:\\users\\sxf-admin\\miniconda3\\envs\\agents\\lib\\site-packages (from aiohttp<4.0.0,>=3.8.3->langchain_community) (2.6.1)\n",
      "Requirement already satisfied: aiosignal>=1.1.2 in c:\\users\\sxf-admin\\miniconda3\\envs\\agents\\lib\\site-packages (from aiohttp<4.0.0,>=3.8.3->langchain_community) (1.4.0)\n",
      "Requirement already satisfied: attrs>=17.3.0 in c:\\users\\sxf-admin\\miniconda3\\envs\\agents\\lib\\site-packages (from aiohttp<4.0.0,>=3.8.3->langchain_community) (25.3.0)\n",
      "Requirement already satisfied: frozenlist>=1.1.1 in c:\\users\\sxf-admin\\miniconda3\\envs\\agents\\lib\\site-packages (from aiohttp<4.0.0,>=3.8.3->langchain_community) (1.7.0)\n",
      "Requirement already satisfied: multidict<7.0,>=4.5 in c:\\users\\sxf-admin\\miniconda3\\envs\\agents\\lib\\site-packages (from aiohttp<4.0.0,>=3.8.3->langchain_community) (6.6.3)\n",
      "Requirement already satisfied: propcache>=0.2.0 in c:\\users\\sxf-admin\\miniconda3\\envs\\agents\\lib\\site-packages (from aiohttp<4.0.0,>=3.8.3->langchain_community) (0.3.2)\n",
      "Requirement already satisfied: yarl<2.0,>=1.17.0 in c:\\users\\sxf-admin\\miniconda3\\envs\\agents\\lib\\site-packages (from aiohttp<4.0.0,>=3.8.3->langchain_community) (1.20.1)\n",
      "Requirement already satisfied: marshmallow<4.0.0,>=3.18.0 in c:\\users\\sxf-admin\\miniconda3\\envs\\agents\\lib\\site-packages (from dataclasses-json<0.7,>=0.5.7->langchain_community) (3.26.1)\n",
      "Requirement already satisfied: typing-inspect<1,>=0.4.0 in c:\\users\\sxf-admin\\miniconda3\\envs\\agents\\lib\\site-packages (from dataclasses-json<0.7,>=0.5.7->langchain_community) (0.9.0)\n",
      "Requirement already satisfied: langchain-text-splitters<1.0.0,>=0.3.8 in c:\\users\\sxf-admin\\miniconda3\\envs\\agents\\lib\\site-packages (from langchain<1.0.0,>=0.3.26->langchain_community) (0.3.8)\n",
      "Requirement already satisfied: pydantic<3.0.0,>=2.7.4 in c:\\users\\sxf-admin\\miniconda3\\envs\\agents\\lib\\site-packages (from langchain<1.0.0,>=0.3.26->langchain_community) (2.11.7)\n",
      "Requirement already satisfied: jsonpatch<2.0,>=1.33 in c:\\users\\sxf-admin\\miniconda3\\envs\\agents\\lib\\site-packages (from langchain-core<1.0.0,>=0.3.66->langchain_community) (1.33)\n",
      "Requirement already satisfied: packaging<25,>=23.2 in c:\\users\\sxf-admin\\miniconda3\\envs\\agents\\lib\\site-packages (from langchain-core<1.0.0,>=0.3.66->langchain_community) (24.2)\n",
      "Requirement already satisfied: typing-extensions>=4.7 in c:\\users\\sxf-admin\\miniconda3\\envs\\agents\\lib\\site-packages (from langchain-core<1.0.0,>=0.3.66->langchain_community) (4.14.0)\n",
      "Requirement already satisfied: jsonpointer>=1.9 in c:\\users\\sxf-admin\\miniconda3\\envs\\agents\\lib\\site-packages (from jsonpatch<2.0,>=1.33->langchain-core<1.0.0,>=0.3.66->langchain_community) (3.0.0)\n",
      "Requirement already satisfied: annotated-types>=0.6.0 in c:\\users\\sxf-admin\\miniconda3\\envs\\agents\\lib\\site-packages (from pydantic<3.0.0,>=2.7.4->langchain<1.0.0,>=0.3.26->langchain_community) (0.7.0)\n",
      "Requirement already satisfied: pydantic-core==2.33.2 in c:\\users\\sxf-admin\\miniconda3\\envs\\agents\\lib\\site-packages (from pydantic<3.0.0,>=2.7.4->langchain<1.0.0,>=0.3.26->langchain_community) (2.33.2)\n",
      "Requirement already satisfied: typing-inspection>=0.4.0 in c:\\users\\sxf-admin\\miniconda3\\envs\\agents\\lib\\site-packages (from pydantic<3.0.0,>=2.7.4->langchain<1.0.0,>=0.3.26->langchain_community) (0.4.1)\n",
      "Requirement already satisfied: python-dotenv>=0.21.0 in c:\\users\\sxf-admin\\miniconda3\\envs\\agents\\lib\\site-packages (from pydantic-settings<3.0.0,>=2.4.0->langchain_community) (1.1.1)\n",
      "Requirement already satisfied: charset_normalizer<4,>=2 in c:\\users\\sxf-admin\\miniconda3\\envs\\agents\\lib\\site-packages (from requests<3,>=2->langchain_community) (3.4.2)\n",
      "Requirement already satisfied: idna<4,>=2.5 in c:\\users\\sxf-admin\\miniconda3\\envs\\agents\\lib\\site-packages (from requests<3,>=2->langchain_community) (3.10)\n",
      "Requirement already satisfied: urllib3<3,>=1.21.1 in c:\\users\\sxf-admin\\miniconda3\\envs\\agents\\lib\\site-packages (from requests<3,>=2->langchain_community) (2.5.0)\n",
      "Requirement already satisfied: certifi>=2017.4.17 in c:\\users\\sxf-admin\\miniconda3\\envs\\agents\\lib\\site-packages (from requests<3,>=2->langchain_community) (2025.6.15)\n",
      "Requirement already satisfied: greenlet>=1 in c:\\users\\sxf-admin\\miniconda3\\envs\\agents\\lib\\site-packages (from SQLAlchemy<3,>=1.4->langchain_community) (3.2.3)\n",
      "Requirement already satisfied: mypy-extensions>=0.3.0 in c:\\users\\sxf-admin\\miniconda3\\envs\\agents\\lib\\site-packages (from typing-inspect<1,>=0.4.0->dataclasses-json<0.7,>=0.5.7->langchain_community) (1.1.0)\n",
      "Requirement already satisfied: httpx<1,>=0.23.0 in c:\\users\\sxf-admin\\miniconda3\\envs\\agents\\lib\\site-packages (from langsmith>=0.1.125->langchain_community) (0.28.1)\n",
      "Requirement already satisfied: orjson<4.0.0,>=3.9.14 in c:\\users\\sxf-admin\\miniconda3\\envs\\agents\\lib\\site-packages (from langsmith>=0.1.125->langchain_community) (3.10.18)\n",
      "Requirement already satisfied: requests-toolbelt<2.0.0,>=1.0.0 in c:\\users\\sxf-admin\\miniconda3\\envs\\agents\\lib\\site-packages (from langsmith>=0.1.125->langchain_community) (1.0.0)\n",
      "Requirement already satisfied: zstandard<0.24.0,>=0.23.0 in c:\\users\\sxf-admin\\miniconda3\\envs\\agents\\lib\\site-packages (from langsmith>=0.1.125->langchain_community) (0.23.0)\n",
      "Requirement already satisfied: anyio in c:\\users\\sxf-admin\\miniconda3\\envs\\agents\\lib\\site-packages (from httpx<1,>=0.23.0->langsmith>=0.1.125->langchain_community) (4.9.0)\n",
      "Requirement already satisfied: httpcore==1.* in c:\\users\\sxf-admin\\miniconda3\\envs\\agents\\lib\\site-packages (from httpx<1,>=0.23.0->langsmith>=0.1.125->langchain_community) (1.0.9)\n",
      "Requirement already satisfied: h11>=0.16 in c:\\users\\sxf-admin\\miniconda3\\envs\\agents\\lib\\site-packages (from httpcore==1.*->httpx<1,>=0.23.0->langsmith>=0.1.125->langchain_community) (0.16.0)\n",
      "Requirement already satisfied: sniffio>=1.1 in c:\\users\\sxf-admin\\miniconda3\\envs\\agents\\lib\\site-packages (from anyio->httpx<1,>=0.23.0->langsmith>=0.1.125->langchain_community) (1.3.1)\n",
      "Requirement already satisfied: duckduckgo-search in c:\\users\\sxf-admin\\miniconda3\\envs\\agents\\lib\\site-packages (8.1.1)\n",
      "Requirement already satisfied: click>=8.1.8 in c:\\users\\sxf-admin\\miniconda3\\envs\\agents\\lib\\site-packages (from duckduckgo-search) (8.2.1)\n",
      "Requirement already satisfied: primp>=0.15.0 in c:\\users\\sxf-admin\\miniconda3\\envs\\agents\\lib\\site-packages (from duckduckgo-search) (0.15.0)\n",
      "Requirement already satisfied: lxml>=5.3.0 in c:\\users\\sxf-admin\\miniconda3\\envs\\agents\\lib\\site-packages (from duckduckgo-search) (6.0.0)\n",
      "Requirement already satisfied: colorama in c:\\users\\sxf-admin\\miniconda3\\envs\\agents\\lib\\site-packages (from click>=8.1.8->duckduckgo-search) (0.4.6)\n",
      "Requirement already satisfied: langchain-tavily in c:\\users\\sxf-admin\\miniconda3\\envs\\agents\\lib\\site-packages (0.2.11)\n",
      "Requirement already satisfied: aiohttp<4.0.0,>=3.11.14 in c:\\users\\sxf-admin\\miniconda3\\envs\\agents\\lib\\site-packages (from langchain-tavily) (3.12.13)\n",
      "Requirement already satisfied: langchain<0.4.0,>=0.3.20 in c:\\users\\sxf-admin\\miniconda3\\envs\\agents\\lib\\site-packages (from langchain-tavily) (0.3.26)\n",
      "Requirement already satisfied: langchain-core<0.4.0,>=0.3.15 in c:\\users\\sxf-admin\\miniconda3\\envs\\agents\\lib\\site-packages (from langchain-tavily) (0.3.68)\n",
      "Requirement already satisfied: requests<3.0.0,>=2.32.3 in c:\\users\\sxf-admin\\miniconda3\\envs\\agents\\lib\\site-packages (from langchain-tavily) (2.32.4)\n",
      "Requirement already satisfied: aiohappyeyeballs>=2.5.0 in c:\\users\\sxf-admin\\miniconda3\\envs\\agents\\lib\\site-packages (from aiohttp<4.0.0,>=3.11.14->langchain-tavily) (2.6.1)\n",
      "Requirement already satisfied: aiosignal>=1.1.2 in c:\\users\\sxf-admin\\miniconda3\\envs\\agents\\lib\\site-packages (from aiohttp<4.0.0,>=3.11.14->langchain-tavily) (1.4.0)\n",
      "Requirement already satisfied: attrs>=17.3.0 in c:\\users\\sxf-admin\\miniconda3\\envs\\agents\\lib\\site-packages (from aiohttp<4.0.0,>=3.11.14->langchain-tavily) (25.3.0)\n",
      "Requirement already satisfied: frozenlist>=1.1.1 in c:\\users\\sxf-admin\\miniconda3\\envs\\agents\\lib\\site-packages (from aiohttp<4.0.0,>=3.11.14->langchain-tavily) (1.7.0)\n",
      "Requirement already satisfied: multidict<7.0,>=4.5 in c:\\users\\sxf-admin\\miniconda3\\envs\\agents\\lib\\site-packages (from aiohttp<4.0.0,>=3.11.14->langchain-tavily) (6.6.3)\n",
      "Requirement already satisfied: propcache>=0.2.0 in c:\\users\\sxf-admin\\miniconda3\\envs\\agents\\lib\\site-packages (from aiohttp<4.0.0,>=3.11.14->langchain-tavily) (0.3.2)\n",
      "Requirement already satisfied: yarl<2.0,>=1.17.0 in c:\\users\\sxf-admin\\miniconda3\\envs\\agents\\lib\\site-packages (from aiohttp<4.0.0,>=3.11.14->langchain-tavily) (1.20.1)\n",
      "Requirement already satisfied: langchain-text-splitters<1.0.0,>=0.3.8 in c:\\users\\sxf-admin\\miniconda3\\envs\\agents\\lib\\site-packages (from langchain<0.4.0,>=0.3.20->langchain-tavily) (0.3.8)\n",
      "Requirement already satisfied: langsmith>=0.1.17 in c:\\users\\sxf-admin\\miniconda3\\envs\\agents\\lib\\site-packages (from langchain<0.4.0,>=0.3.20->langchain-tavily) (0.4.4)\n",
      "Requirement already satisfied: pydantic<3.0.0,>=2.7.4 in c:\\users\\sxf-admin\\miniconda3\\envs\\agents\\lib\\site-packages (from langchain<0.4.0,>=0.3.20->langchain-tavily) (2.11.7)\n",
      "Requirement already satisfied: SQLAlchemy<3,>=1.4 in c:\\users\\sxf-admin\\miniconda3\\envs\\agents\\lib\\site-packages (from langchain<0.4.0,>=0.3.20->langchain-tavily) (2.0.41)\n",
      "Requirement already satisfied: PyYAML>=5.3 in c:\\users\\sxf-admin\\miniconda3\\envs\\agents\\lib\\site-packages (from langchain<0.4.0,>=0.3.20->langchain-tavily) (6.0.2)\n",
      "Requirement already satisfied: tenacity!=8.4.0,<10.0.0,>=8.1.0 in c:\\users\\sxf-admin\\miniconda3\\envs\\agents\\lib\\site-packages (from langchain-core<0.4.0,>=0.3.15->langchain-tavily) (9.1.2)\n",
      "Requirement already satisfied: jsonpatch<2.0,>=1.33 in c:\\users\\sxf-admin\\miniconda3\\envs\\agents\\lib\\site-packages (from langchain-core<0.4.0,>=0.3.15->langchain-tavily) (1.33)\n",
      "Requirement already satisfied: packaging<25,>=23.2 in c:\\users\\sxf-admin\\miniconda3\\envs\\agents\\lib\\site-packages (from langchain-core<0.4.0,>=0.3.15->langchain-tavily) (24.2)\n",
      "Requirement already satisfied: typing-extensions>=4.7 in c:\\users\\sxf-admin\\miniconda3\\envs\\agents\\lib\\site-packages (from langchain-core<0.4.0,>=0.3.15->langchain-tavily) (4.14.0)\n",
      "Requirement already satisfied: jsonpointer>=1.9 in c:\\users\\sxf-admin\\miniconda3\\envs\\agents\\lib\\site-packages (from jsonpatch<2.0,>=1.33->langchain-core<0.4.0,>=0.3.15->langchain-tavily) (3.0.0)\n",
      "Requirement already satisfied: annotated-types>=0.6.0 in c:\\users\\sxf-admin\\miniconda3\\envs\\agents\\lib\\site-packages (from pydantic<3.0.0,>=2.7.4->langchain<0.4.0,>=0.3.20->langchain-tavily) (0.7.0)\n",
      "Requirement already satisfied: pydantic-core==2.33.2 in c:\\users\\sxf-admin\\miniconda3\\envs\\agents\\lib\\site-packages (from pydantic<3.0.0,>=2.7.4->langchain<0.4.0,>=0.3.20->langchain-tavily) (2.33.2)\n",
      "Requirement already satisfied: typing-inspection>=0.4.0 in c:\\users\\sxf-admin\\miniconda3\\envs\\agents\\lib\\site-packages (from pydantic<3.0.0,>=2.7.4->langchain<0.4.0,>=0.3.20->langchain-tavily) (0.4.1)\n",
      "Requirement already satisfied: charset_normalizer<4,>=2 in c:\\users\\sxf-admin\\miniconda3\\envs\\agents\\lib\\site-packages (from requests<3.0.0,>=2.32.3->langchain-tavily) (3.4.2)\n",
      "Requirement already satisfied: idna<4,>=2.5 in c:\\users\\sxf-admin\\miniconda3\\envs\\agents\\lib\\site-packages (from requests<3.0.0,>=2.32.3->langchain-tavily) (3.10)\n",
      "Requirement already satisfied: urllib3<3,>=1.21.1 in c:\\users\\sxf-admin\\miniconda3\\envs\\agents\\lib\\site-packages (from requests<3.0.0,>=2.32.3->langchain-tavily) (2.5.0)\n",
      "Requirement already satisfied: certifi>=2017.4.17 in c:\\users\\sxf-admin\\miniconda3\\envs\\agents\\lib\\site-packages (from requests<3.0.0,>=2.32.3->langchain-tavily) (2025.6.15)\n",
      "Requirement already satisfied: greenlet>=1 in c:\\users\\sxf-admin\\miniconda3\\envs\\agents\\lib\\site-packages (from SQLAlchemy<3,>=1.4->langchain<0.4.0,>=0.3.20->langchain-tavily) (3.2.3)\n",
      "Requirement already satisfied: httpx<1,>=0.23.0 in c:\\users\\sxf-admin\\miniconda3\\envs\\agents\\lib\\site-packages (from langsmith>=0.1.17->langchain<0.4.0,>=0.3.20->langchain-tavily) (0.28.1)\n",
      "Requirement already satisfied: orjson<4.0.0,>=3.9.14 in c:\\users\\sxf-admin\\miniconda3\\envs\\agents\\lib\\site-packages (from langsmith>=0.1.17->langchain<0.4.0,>=0.3.20->langchain-tavily) (3.10.18)\n",
      "Requirement already satisfied: requests-toolbelt<2.0.0,>=1.0.0 in c:\\users\\sxf-admin\\miniconda3\\envs\\agents\\lib\\site-packages (from langsmith>=0.1.17->langchain<0.4.0,>=0.3.20->langchain-tavily) (1.0.0)\n",
      "Requirement already satisfied: zstandard<0.24.0,>=0.23.0 in c:\\users\\sxf-admin\\miniconda3\\envs\\agents\\lib\\site-packages (from langsmith>=0.1.17->langchain<0.4.0,>=0.3.20->langchain-tavily) (0.23.0)\n",
      "Requirement already satisfied: anyio in c:\\users\\sxf-admin\\miniconda3\\envs\\agents\\lib\\site-packages (from httpx<1,>=0.23.0->langsmith>=0.1.17->langchain<0.4.0,>=0.3.20->langchain-tavily) (4.9.0)\n",
      "Requirement already satisfied: httpcore==1.* in c:\\users\\sxf-admin\\miniconda3\\envs\\agents\\lib\\site-packages (from httpx<1,>=0.23.0->langsmith>=0.1.17->langchain<0.4.0,>=0.3.20->langchain-tavily) (1.0.9)\n",
      "Requirement already satisfied: h11>=0.16 in c:\\users\\sxf-admin\\miniconda3\\envs\\agents\\lib\\site-packages (from httpcore==1.*->httpx<1,>=0.23.0->langsmith>=0.1.17->langchain<0.4.0,>=0.3.20->langchain-tavily) (0.16.0)\n",
      "Requirement already satisfied: sniffio>=1.1 in c:\\users\\sxf-admin\\miniconda3\\envs\\agents\\lib\\site-packages (from anyio->httpx<1,>=0.23.0->langsmith>=0.1.17->langchain<0.4.0,>=0.3.20->langchain-tavily) (1.3.1)\n"
     ]
    }
   ],
   "source": [
    "! pip install langchain_community\n",
    "! pip install -U duckduckgo-search\n",
    "! pip install -U langchain-tavily"
   ]
  },
  {
   "cell_type": "markdown",
   "id": "d1c75347",
   "metadata": {},
   "source": [
    "#### 4.2.1 整体流程\n",
    "单一目标原则\n",
    "1. planning agent 做规划，要搜索什么东西；\n",
    "2. search agent，根据plan 调用 Search Tool 检索结果；（可以循环的搜索）\n",
    "3. report agetn，根据检索结果，生成报告。"
   ]
  },
  {
   "cell_type": "code",
   "execution_count": 63,
   "id": "d5cb9f8f",
   "metadata": {},
   "outputs": [
    {
     "data": {
      "text/plain": [
       "{'query': 'What is the capital of France?',\n",
       " 'follow_up_questions': None,\n",
       " 'answer': None,\n",
       " 'images': [],\n",
       " 'results': [{'url': 'https://en.wikipedia.org/wiki/Paris',\n",
       "   'title': 'Paris - Wikipedia',\n",
       "   'content': 'Paris is the capital and largest city of France. With an estimated population of 2,048,472 in January 2025 in an area of more than 105 km2 (41 sq mi),',\n",
       "   'score': 0.85995835,\n",
       "   'raw_content': None},\n",
       "  {'url': 'https://home.adelphi.edu/~ca19535/page%204.html',\n",
       "   'title': 'Paris facts: the capital of France in history',\n",
       "   'content': 'Paris, France   ## Paris facts: Paris, the **capital of France** Paris is the **capital of France**, Paris has 2.234 million inhabitants ## Paris facts: Paris history Republic, Paris has a rich 2000 year history. See details of Paris churches, including Notre ## Paris facts: Paris, a world city Paris is a world capital city of shopping french fashion brands. All of this turns Paris into a ## Paris facts: the capital of France in history Before Paris, the capital of France Paris first became the capital of France in France, Paris retrieved its status of capital of France under King can see remains of the Philippe August Paris walls in the parking and Louvre Museum Paris remained the capital of',\n",
       "   'score': 0.8286204,\n",
       "   'raw_content': None},\n",
       "  {'url': 'https://www.cia-france.com/french-kids-teenage-courses/paris-school/visit-paris',\n",
       "   'title': 'Discover the city of Paris | Paris the capital city of France',\n",
       "   'content': '# Paris ## Paris is the city of romance par excellence, the fashion capital and the best example of French art de vivre. Paris is the city of romance par excellence, the fashion capital and the best example of French art de vivre. Exploring Paris is an essential rite of passage for anyone who decides to learn French and get to know France. ## Paris, a perfect program for teens ## Discover our French summer camps in France Premium summer language camp for students aged 8 to 17 years. Summer language camp for students aged 12 to 17 years, including an independence programme for 16 and 17 year olds. Summer language camp for students aged 12 to 17 years.',\n",
       "   'score': 0.80844593,\n",
       "   'raw_content': None},\n",
       "  {'url': 'https://www.britannica.com/place/Paris',\n",
       "   'title': 'Paris | Definition, Map, Population, Facts, & History | Britannica',\n",
       "   'content': 'Paris Paris **Paris**, city and capital of France, situated in the north-central part of the country. Image 20: Paris Paris(more) For centuries Paris has been one of the world’s most important and attractive cities. Image 21: Paris, France Image 24: Paris Image 27: Paris Street; Rainy Day and a vision of the modern city Over the centuries, as Paris expanded outward from the Île de la Cité, various walls were built to enclose parts of the city. Situated in the Seine in the centre of Paris, the ship-shaped Île de la Cité is the historical heart of the city. Image 30: Notre-Dame de Paris Image 32: Notre-Dame de Paris \"Paris\".',\n",
       "   'score': 0.7348247,\n",
       "   'raw_content': None},\n",
       "  {'url': 'https://www.coe.int/en/web/interculturalcities/paris',\n",
       "   'title': 'Paris, France - Intercultural Cities Programme - The Council of Europe',\n",
       "   'content': 'Paris, France - Intercultural City - Intercultural Cities Programme Council of Europe Human Rights Human Rights Online resources Human Rights Online resources # Intercultural Cities Programme - What is an intercultural city? - Intercultural Regions - Index reports per city - Intercultural profiles 2. Intercultural Cities Programme 4. Paris # Paris, France - Intercultural City Paris is the capital and most populous city of France. The City of Paris has an area of 105\\xa0km² and a population of 2,241,346 (2014 estimate). #### International Intercultural Cities Network - Paris Intercultural profile Intercultural Cities Index - Paris\\xa0city official website - Paris Facebook page - Private office of the Secretary General - Online bookshop - Online resources **Council of Europe**,',\n",
       "   'score': 0.69498676,\n",
       "   'raw_content': None}],\n",
       " 'response_time': 1.29}"
      ]
     },
     "execution_count": 63,
     "metadata": {},
     "output_type": "execute_result"
    }
   ],
   "source": [
    "from langchain_tavily import TavilySearch\n",
    "\n",
    "search_tool = TavilySearch(\n",
    "    max_results=5,\n",
    "    topic=\"general\",\n",
    "    tavily_api_key=os.getenv('TAVILY_APE_KEY'),\n",
    ")\n",
    "\n",
    "search_tool.invoke(\"What is the capital of France?\")"
   ]
  },
  {
   "cell_type": "code",
   "execution_count": 64,
   "id": "db112a1b",
   "metadata": {},
   "outputs": [],
   "source": [
    "# planner agent 输出 json / markdown  \n",
    "# create agent with structured output\n",
    "\n",
    "plan_prompt = \"\"\"\n",
    "你是一名规划师，你的任务是为用户提供一个搜索计划。你要用json格式输出搜索计划，列出不超过五个最相关的搜索词。\n",
    "请确保每个搜索词都能帮助用户找到相关信息。\n",
    "\n",
    "输出示例：\n",
    "{\n",
    "    \"search_items\": [\n",
    "        {\"search_term\": \"Python编程\"},\n",
    "        {\"search_term\": \"机器学习\"}\n",
    "    ]\n",
    "}\n",
    "\n",
    "你只需要返回这个json格式的输出，不需要其他任何文字。\n",
    "\"\"\"\n",
    "\n",
    "plan_agent = create_react_agent(\n",
    "    tools=[],\n",
    "    model=llm3,\n",
    "    prompt=plan_prompt,\n",
    ")\n",
    "\n",
    "search_agent = create_react_agent(\n",
    "    tools=[search_tool],\n",
    "    model=llm3,\n",
    "    prompt=\"你是一名搜索助手，你的任务是根据用户的搜索计划执行搜索。请使用TavilySearch工具进行搜索。\"\n",
    ")\n",
    "\n",
    "report_agent = create_react_agent(\n",
    "    tools=[],\n",
    "    model=llm3,\n",
    "    prompt=\"你是一名报告生成器，你的任务是根据搜索结果生成一份报告。请使用json格式输出报告。\"\n",
    ")\n"
   ]
  },
  {
   "cell_type": "code",
   "execution_count": 68,
   "id": "6f1f1420",
   "metadata": {},
   "outputs": [],
   "source": [
    "from pydantic import BaseModel, Field\n",
    "from typing import List\n",
    "\n",
    "class ResearchPlan(BaseModel):\n",
    "    \"\"\"Research plan with key questions\"\"\"\n",
    "    search_items: List[str] = Field(\n",
    "        description=\"List of 1-3 key research search items to investigate\",\n",
    "        max_items=3\n",
    "    )\n",
    "\n",
    "class ResearchState(MessagesState):\n",
    "    \"\"\"State for the ReSearch workflow.\"\"\"\n",
    "    search_plan: ResearchPlan|None = None\n",
    "\n",
    "\n",
    "workflow = StateGraph(ResearchState)\n",
    "\n",
    "# Add nodes and edges with state transformations\n",
    "workflow.add_node(\"plan_agent\", plan_agent)\n",
    "workflow.add_node(\"search_agent\", search_agent)\n",
    "workflow.add_node(\"report_agent\", report_agent)\n",
    "\n",
    "workflow.add_edge(START, \"plan_agent\")\n",
    "workflow.add_edge(\"plan_agent\", \"search_agent\")\n",
    "workflow.add_edge(\"search_agent\", \"report_agent\")\n",
    "workflow.add_edge(\"report_agent\", END)\n",
    "\n",
    "# Compile workflow\n",
    "app = workflow.compile()"
   ]
  },
  {
   "cell_type": "code",
   "execution_count": 69,
   "id": "9696eaa5",
   "metadata": {},
   "outputs": [],
   "source": [
    "output = app.invoke(\n",
    "    {\"messages\": [\n",
    "        HumanMessage(\"write an description about andrej karthy\")\n",
    "    ]}\n",
    ")"
   ]
  },
  {
   "cell_type": "code",
   "execution_count": 70,
   "id": "cd403492",
   "metadata": {},
   "outputs": [
    {
     "name": "stdout",
     "output_type": "stream",
     "text": [
      "================================\u001b[1m Human Message \u001b[0m=================================\n",
      "\n",
      "write an description about andrej karthy\n",
      "==================================\u001b[1m Ai Message \u001b[0m==================================\n",
      "\n",
      "```json\n",
      "{\n",
      "    \"search_items\": [\n",
      "        {\"search_term\": \"Andrej Karpathy\"},\n",
      "        {\"search_term\": \"Andrej Karpathy OpenAI\"},\n",
      "        {\"search_term\": \"Andrej Karpathy Tesla\"},\n",
      "        {\"search_term\": \"Andrej Karpathy neural networks\"},\n",
      "        {\"search_term\": \"Andrej Karpathy blog\"}\n",
      "    ]\n",
      "}\n",
      "```\n",
      "==================================\u001b[1m Ai Message \u001b[0m==================================\n",
      "Tool Calls:\n",
      "  tavily_search (call_0_de93509b-884e-46c2-a8e5-4763d394a582)\n",
      " Call ID: call_0_de93509b-884e-46c2-a8e5-4763d394a582\n",
      "  Args:\n",
      "    query: Andrej Karpathy\n",
      "  tavily_search (call_1_95a616c4-608f-4a67-a407-0116b64cfca9)\n",
      " Call ID: call_1_95a616c4-608f-4a67-a407-0116b64cfca9\n",
      "  Args:\n",
      "    query: Andrej Karpathy OpenAI\n",
      "  tavily_search (call_2_d3f6b65c-00a8-46bc-9825-2882f4957d6d)\n",
      " Call ID: call_2_d3f6b65c-00a8-46bc-9825-2882f4957d6d\n",
      "  Args:\n",
      "    query: Andrej Karpathy Tesla\n",
      "  tavily_search (call_3_0b6d61aa-a705-4a51-8a2f-77b8213a5b16)\n",
      " Call ID: call_3_0b6d61aa-a705-4a51-8a2f-77b8213a5b16\n",
      "  Args:\n",
      "    query: Andrej Karpathy neural networks\n",
      "  tavily_search (call_4_f1eaf7bc-8d60-4fa9-a67c-edf87ab7cae0)\n",
      " Call ID: call_4_f1eaf7bc-8d60-4fa9-a67c-edf87ab7cae0\n",
      "  Args:\n",
      "    query: Andrej Karpathy blog\n",
      "=================================\u001b[1m Tool Message \u001b[0m=================================\n",
      "Name: tavily_search\n",
      "\n",
      "{\"query\": \"Andrej Karpathy\", \"follow_up_questions\": null, \"answer\": null, \"images\": [], \"results\": [{\"url\": \"https://en.wikipedia.org/wiki/Andrej_Karpathy\", \"title\": \"Andrej Karpathy - Wikipedia\", \"content\": \"Andrej Karpathy - Wikipedia | Website | karpathy.ai Edit this at Wikidata | **Andrej Karpathy** (born 23 October 1986) is a Slovak-Canadian computer scientist who served as the director of artificial intelligence and Autopilot Vision at Tesla. On July 16, 2024, Karpathy announced on his X account that he started a new AI education company called Eureka Labs. In February 2025, Karpathy coined the term vibe coding to describe how AI tools allow hobbyists to construct apps and websites, just by typing prompts. *karpathy.ai*. \\\"Tesla hires deep learning expert Andrej Karpathy to lead Autopilot vision\\\". \\\"Tesla AI leader Andrej Karpathy announces he's leaving the company\\\". \\\"Andrej Karpathy: The 100 Most Influential People in AI 2024\\\". **^** \\\"OpenAI Co-Founder Andrej Karpathy Announces Eureka Labs, an AI Education Startup\\\". *karpathy.ai*.\", \"score\": 0.9310187, \"raw_content\": null}, {\"url\": \"https://karpathy.ai/\", \"title\": \"Andrej Karpathy\", \"content\": \"2024 - I started Eureka Labs, a new AI+Education company. Meanwhile, I also make educational videos on AI on my YouTube channel. General audience track: Deep Dive into LLMs like ChatGPT is on under-the hood fundamentals of LLMs. 2017 - 2022 I was the Sr. Director of AI at Tesla, where I led the computer vision team of Tesla Autopilot. This includes in-house data labeling, neural network training, the science of making it work, and deployment in production running on our custom inference chip.\", \"score\": 0.4501424, \"raw_content\": null}, {\"url\": \"https://www.linkedin.com/in/andrej-karpathy-9a650716\", \"title\": \"Andrej Karpathy - Tesla - LinkedIn\", \"content\": \"I worked on learning controllers for physically-simulated figures. Think: agile robotics but in a simulation. Application include graphics and robotics.\", \"score\": 0.44811285, \"raw_content\": null}, {\"url\": \"http://karpathy.github.io/\", \"title\": \"Andrej Karpathy blog\", \"content\": \"*   Mar 14, 2022Deep Neural Nets: 33 years ago and 33 years from now Can we improve on it using 33 years of progress in deep learning? *   May 31, 2016Deep Reinforcement Learning: Pong from Pixels I'll discuss the core ideas, pros and cons of policy gradients, a standard approach to the rapidly growing and exciting area of deep reinforcement learning. *   Oct 25, 2015What a Deep Neural Network thinks about your #selfie We will look at Convolutional Neural Networks, with a fun example of training them to classify #selfies as good/bad based on a scraped dataset of 2 million selfies. Some reflections on the last two years of my research: The Quest for Unsupervised Feature Learning algorithms for visual data.\", \"score\": 0.400703, \"raw_content\": null}, {\"url\": \"https://www.youtube.com/andrejkarpathy\", \"title\": \"Andrej Karpathy - YouTube\", \"content\": \"Deep Dive into LLMs like ChatGPT. General Audience videos for more general audience, no programming experience necessary.\", \"score\": 0.3891524, \"raw_content\": null}], \"response_time\": 2.12}\n",
      "=================================\u001b[1m Tool Message \u001b[0m=================================\n",
      "Name: tavily_search\n",
      "\n",
      "{\"query\": \"Andrej Karpathy OpenAI\", \"follow_up_questions\": null, \"answer\": null, \"images\": [], \"results\": [{\"url\": \"https://en.wikipedia.org/wiki/Andrej_Karpathy\", \"title\": \"Andrej Karpathy - Wikipedia\", \"content\": \"Andrej Karpathy - Wikipedia | Website | karpathy.ai Edit this at Wikidata | **Andrej Karpathy** (born 23 October 1986) is a Slovak-Canadian computer scientist who served as the director of artificial intelligence and Autopilot Vision at Tesla. On July 16, 2024, Karpathy announced on his X account that he started a new AI education company called Eureka Labs. In February 2025, Karpathy coined the term vibe coding to describe how AI tools allow hobbyists to construct apps and websites, just by typing prompts. *karpathy.ai*. \\\"Tesla hires deep learning expert Andrej Karpathy to lead Autopilot vision\\\". \\\"Tesla AI leader Andrej Karpathy announces he's leaving the company\\\". \\\"Andrej Karpathy: The 100 Most Influential People in AI 2024\\\". **^** \\\"OpenAI Co-Founder Andrej Karpathy Announces Eureka Labs, an AI Education Startup\\\". *karpathy.ai*.\", \"score\": 0.88420963, \"raw_content\": null}, {\"url\": \"https://x.com/karpathy/status/1757600075281547344?lang=en\", \"title\": \"Andrej Karpathy - X\", \"content\": \"Hi everyone yes, I left OpenAI yesterday. First of all nothing \\\"happened\\\" and it's not a result of any particular event, issue or drama (but\", \"score\": 0.4808937, \"raw_content\": null}, {\"url\": \"https://karpathy.ai/\", \"title\": \"Andrej Karpathy\", \"content\": \"2024 - I started Eureka Labs, a new AI+Education company. Meanwhile, I also make educational videos on AI on my YouTube channel. General audience track: Deep Dive into LLMs like ChatGPT is on under-the hood fundamentals of LLMs. 2017 - 2022 I was the Sr. Director of AI at Tesla, where I led the computer vision team of Tesla Autopilot. This includes in-house data labeling, neural network training, the science of making it work, and deployment in production running on our custom inference chip.\", \"score\": 0.4473884, \"raw_content\": null}, {\"url\": \"https://www.linkedin.com/in/andrej-karpathy-9a650716\", \"title\": \"Andrej Karpathy - Tesla - LinkedIn\", \"content\": \"I worked on learning controllers for physically-simulated figures. Think: agile robotics but in a simulation. Application include graphics and robotics.\", \"score\": 0.39550823, \"raw_content\": null}, {\"url\": \"https://www.youtube.com/andrejkarpathy\", \"title\": \"Andrej Karpathy - YouTube\", \"content\": \"Deep Dive into LLMs like ChatGPT. General Audience videos for more general audience, no programming experience necessary.\", \"score\": 0.28031138, \"raw_content\": null}], \"response_time\": 0.91}\n",
      "=================================\u001b[1m Tool Message \u001b[0m=================================\n",
      "Name: tavily_search\n",
      "\n",
      "{\"query\": \"Andrej Karpathy Tesla\", \"follow_up_questions\": null, \"answer\": null, \"images\": [], \"results\": [{\"url\": \"https://en.wikipedia.org/wiki/Andrej_Karpathy\", \"title\": \"Andrej Karpathy - Wikipedia\", \"content\": \"Andrej Karpathy - Wikipedia | Website | karpathy.ai Edit this at Wikidata | **Andrej Karpathy** (born 23 October 1986) is a Slovak-Canadian computer scientist who served as the director of artificial intelligence and Autopilot Vision at Tesla. On July 16, 2024, Karpathy announced on his X account that he started a new AI education company called Eureka Labs. In February 2025, Karpathy coined the term vibe coding to describe how AI tools allow hobbyists to construct apps and websites, just by typing prompts. *karpathy.ai*. \\\"Tesla hires deep learning expert Andrej Karpathy to lead Autopilot vision\\\". \\\"Tesla AI leader Andrej Karpathy announces he's leaving the company\\\". \\\"Andrej Karpathy: The 100 Most Influential People in AI 2024\\\". **^** \\\"OpenAI Co-Founder Andrej Karpathy Announces Eureka Labs, an AI Education Startup\\\". *karpathy.ai*.\", \"score\": 0.8980626, \"raw_content\": null}, {\"url\": \"https://www.linkedin.com/posts/lexfridman_andrej-karpathy-tesla-ai-self-driving-activity-6992165676295618560-osOH\", \"title\": \"Lex Fridman - Andrej Karpathy - LinkedIn\", \"content\": \"Here's my conversation with Andrej Karpathy, a legendary AI researcher, engineer, and educator, and former director of AI at Tesla.\", \"score\": 0.72907686, \"raw_content\": null}, {\"url\": \"https://www.quora.com/Why-did-Andrej-Karpathy-leave-Tesla\", \"title\": \"Why did Andrej Karpathy leave Tesla? - Quora\", \"content\": \"As of 2023 he has not left either Tesla or SpaceX in any capacity. He is still CEO and chief engineer of SpaceX, CEO and product architect of\", \"score\": 0.6304352, \"raw_content\": null}, {\"url\": \"https://karpathy.ai/\", \"title\": \"Andrej Karpathy\", \"content\": \"2024 - I started Eureka Labs, a new AI+Education company. Meanwhile, I also make educational videos on AI on my YouTube channel. General audience track: Deep Dive into LLMs like ChatGPT is on under-the hood fundamentals of LLMs. 2017 - 2022 I was the Sr. Director of AI at Tesla, where I led the computer vision team of Tesla Autopilot. This includes in-house data labeling, neural network training, the science of making it work, and deployment in production running on our custom inference chip.\", \"score\": 0.60805947, \"raw_content\": null}, {\"url\": \"https://www.linkedin.com/in/andrej-karpathy-9a650716\", \"title\": \"Andrej Karpathy - Tesla - LinkedIn\", \"content\": \"I worked on learning controllers for physically-simulated figures. Think: agile robotics but in a simulation. Application include graphics and robotics.\", \"score\": 0.5021246, \"raw_content\": null}], \"response_time\": 1.16}\n",
      "=================================\u001b[1m Tool Message \u001b[0m=================================\n",
      "Name: tavily_search\n",
      "\n",
      "{\"query\": \"Andrej Karpathy neural networks\", \"follow_up_questions\": null, \"answer\": null, \"images\": [], \"results\": [{\"url\": \"https://karpathy.ai/zero-to-hero.html\", \"title\": \"Neural Networks: Zero To Hero - Andrej Karpathy\", \"content\": \"A course by Andrej Karpathy on building neural networks, from scratch, in code. We start with the basics of backpropagation and build up to modern deep neural\", \"score\": 0.8302782, \"raw_content\": null}, {\"url\": \"https://www.youtube.com/watch?v=VMj-3S1tku0\", \"title\": \"The spelled-out intro to neural networks and backpropagation\", \"content\": \"The spelled-out intro to neural networks and backpropagation: building micrograd\\n\\nAndrej Karpathy\\n54183 likes\\n2517684 views\\n16 Aug 2022\\nThis is the most step-by-step spelled-out explanation of backpropagation and training of neural networks. It only assumes basic knowledge of Python and a vague recollection of calculus from high school.\\n\\nLinks:\\n- micrograd on github: https://github.com/karpathy/micrograd\\n- jupyter notebooks I built in this video: https://github.com/karpathy/nn-zero-to-hero/tree/master/lectures/micrograd\\n- my website: https://karpathy.ai\\n- my twitter: https://twitter.com/karpathy\\n- \\\"discussion forum\\\": nvm, use youtube comments below for now :)\\n- (new) Neural Networks: Zero to Hero series Discord channel: https://discord.gg/3zy8kqD9Cp , for people who'd like to chat more and go beyond youtube comments\\n\\nExercises:\\nyou should now be able to complete the following google collab, good luck!:\\nhttps://colab.research.google.com/drive/1FPTx1RXtBfc4MaTkf7viZZD4U2F9gtKN?usp=sharing\\n\\nChapters:\\n00:00:00 intro\\n00:00:25 micrograd overview\\n00:08:08 derivative of a simple function with one input\\n00:14:12 derivative of a function with multiple inputs\\n00:19:09 starting the core Value object of micrograd and its visualization\\n00:32:10 manual backpropagation example #1: simple expression\\n00:51:10 preview of a single optimization step\\n00:52:52 manual backpropagation example #2: a neuron\\n01:09:02 implementing the backward function for each operation\\n01:17:32 implementing the backward function for a whole expression graph\\n01:22:28 fixing a backprop bug when one node is used multiple times\\n01:27:05 breaking up a tanh, exercising with more operations\\n01:39:31 doing the same thing but in PyTorch: comparison\\n01:43:55 building out a neural net library (multi-layer perceptron) in micrograd\\n01:51:04 creating a tiny dataset, writing the loss function\\n01:57:56 collecting all of the parameters of the neural net\\n02:01:12 doing gradient descent optimization manually, training the network\\n02:14:03 summary of what we learned, how to go towards modern neural nets\\n02:16:46 walkthrough of the full code of micrograd on github\\n02:21:10 real stuff: diving into PyTorch, finding their backward pass for tanh\\n02:24:39 conclusion\\n02:25:20 outtakes :)\\n2155 comments\", \"score\": 0.767847, \"raw_content\": null}, {\"url\": \"http://karpathy.github.io/neuralnets/\", \"title\": \"Hacker's guide to Neural Networks - Andrej Karpathy blog\", \"content\": \"Hacker's guide to Neural Networks · Chapter 1: Real-valued Circuits · Chapter 2: Machine Learning · Chapter 3: Backprop in Practice · Chapter 4: Networks in the\", \"score\": 0.64020914, \"raw_content\": null}, {\"url\": \"https://www.youtube.com/playlist?list=PLAqhIrjkxbuWI23v9cThsA9GvCAUhRvKZ\", \"title\": \"Neural Networks: Zero to Hero - YouTube\", \"content\": \"The spelled-out intro to neural networks and backpropagation: building micrograd. Andrej Karpathy · 1:57:45 · The spelled-out intro to language modeling:\", \"score\": 0.63316137, \"raw_content\": null}, {\"url\": \"https://www.reddit.com/r/learnmachinelearning/comments/1dsg6mi/those_who_loved_andrej_karpathys_zero_to_hero/\", \"title\": \"Those who loved Andrej Karpathy's \\\"Zero to Hero\\\", what else do you ...\", \"content\": \"I'm very much nourished by Andrej Karpathy's \\\"Zero to Hero\\\" series and his CS231n course available on youtube. I love it. I haven't found any other learning\", \"score\": 0.31302112, \"raw_content\": null}], \"response_time\": 0.81}\n",
      "=================================\u001b[1m Tool Message \u001b[0m=================================\n",
      "Name: tavily_search\n",
      "\n",
      "{\"query\": \"Andrej Karpathy blog\", \"follow_up_questions\": null, \"answer\": null, \"images\": [], \"results\": [{\"url\": \"https://karpathy.bearblog.dev/\", \"title\": \"karpathy - Bear Blog\", \"content\": \"Bear blog of Andrej Karpathy, AI researcher. Started March 2025. main webpage: karpathy.ai; X @karpathy; Subscribe to this blog via RSS feed. Powered by\", \"score\": 0.8095324, \"raw_content\": null}, {\"url\": \"https://karpathy.bearblog.dev/blog/\", \"title\": \"Blog | karpathy\", \"content\": \"karpathy · Home Blog. 27 Apr, 2025 Vibe coding MenuGen; 07 Apr, 2025 Power to the people: How LLMs flip the script on technology diffusion; 24 Mar, 2025\", \"score\": 0.65359193, \"raw_content\": null}, {\"url\": \"http://karpathy.github.io/\", \"title\": \"Andrej Karpathy blog\", \"content\": \"A recipe for training neural networks. A collection of practical advice for the process of achieving strong results with neural networks.\", \"score\": 0.6353361, \"raw_content\": null}, {\"url\": \"https://karpathy.medium.com/\", \"title\": \"Andrej Karpathy – Medium\", \"content\": \"Read writing from Andrej Karpathy on Medium. I like to train deep neural nets on large datasets.\", \"score\": 0.53415143, \"raw_content\": null}, {\"url\": \"https://karpathy.ai/\", \"title\": \"Andrej Karpathy\", \"content\": \"2024 - I started Eureka Labs, a new AI+Education company. Meanwhile, I also make educational videos on AI on my YouTube channel. General audience track: Deep Dive into LLMs like ChatGPT is on under-the hood fundamentals of LLMs. 2017 - 2022 I was the Sr. Director of AI at Tesla, where I led the computer vision team of Tesla Autopilot. This includes in-house data labeling, neural network training, the science of making it work, and deployment in production running on our custom inference chip.\", \"score\": 0.44680908, \"raw_content\": null}], \"response_time\": 0.77}\n",
      "==================================\u001b[1m Ai Message \u001b[0m==================================\n",
      "\n",
      "Andrej Karpathy is a Slovak-Canadian computer scientist renowned for his contributions to artificial intelligence (AI) and deep learning. Born on October 23, 1986, Karpathy has held influential roles in the tech industry, including serving as the Senior Director of AI at Tesla, where he led the computer vision team for Tesla Autopilot. His work at Tesla involved in-house data labeling, neural network training, and deploying AI models on custom hardware.\n",
      "\n",
      "### Key Highlights:\n",
      "1. **Tesla**: Karpathy played a pivotal role in advancing Tesla's autonomous driving technology, focusing on neural networks and computer vision.\n",
      "2. **OpenAI**: He was also a co-founder and researcher at OpenAI, contributing to the development of cutting-edge AI models.\n",
      "3. **Eureka Labs**: In 2024, Karpathy founded Eureka Labs, an AI education company aimed at democratizing AI knowledge through accessible learning resources.\n",
      "4. **Educational Contributions**: He is known for his educational content, including the \"Neural Networks: Zero to Hero\" series and detailed blog posts on AI and neural networks.\n",
      "5. **Vibe Coding**: In 2025, he coined the term \"vibe coding\" to describe how AI tools enable hobbyists to build applications using simple prompts.\n",
      "\n",
      "### Notable Resources:\n",
      "- **Blog**: [karpathy.github.io](http://karpathy.github.io/) and [karpathy.bearblog.dev](https://karpathy.bearblog.dev/)\n",
      "- **YouTube**: [Deep Dive into LLMs](https://www.youtube.com/andrejkarpathy)\n",
      "- **LinkedIn**: [Andrej Karpathy](https://www.linkedin.com/in/andrej-karpathy-9a650716)\n",
      "\n",
      "Karpathy's work continues to inspire AI researchers and enthusiasts worldwide, bridging the gap between complex AI concepts and practical applications.\n",
      "==================================\u001b[1m Ai Message \u001b[0m==================================\n",
      "\n",
      "```json\n",
      "{\n",
      "  \"report\": {\n",
      "    \"subject\": \"Andrej Karpathy\",\n",
      "    \"description\": \"Slovak-Canadian computer scientist specializing in artificial intelligence and deep learning\",\n",
      "    \"key_details\": {\n",
      "      \"born\": \"October 23, 1986\",\n",
      "      \"nationality\": \"Slovak-Canadian\",\n",
      "      \"current_affiliation\": \"Founder of Eureka Labs (AI education company)\",\n",
      "      \"former_roles\": [\n",
      "        \"Senior Director of AI at Tesla (2017-2022)\",\n",
      "        \"Co-founder and researcher at OpenAI\"\n",
      "      ]\n",
      "    },\n",
      "    \"professional_contributions\": {\n",
      "      \"tesla\": {\n",
      "        \"role\": \"Led computer vision team for Tesla Autopilot\",\n",
      "        \"responsibilities\": [\n",
      "          \"In-house data labeling\",\n",
      "          \"Neural network training\",\n",
      "          \"Deployment of AI models on custom hardware\"\n",
      "        ]\n",
      "      },\n",
      "      \"openai\": \"Contributed to development of cutting-edge AI models\",\n",
      "      \"eureka_labs\": {\n",
      "        \"founded\": 2024,\n",
      "        \"focus\": \"Democratizing AI knowledge through accessible education\"\n",
      "      },\n",
      "      \"technical_innovations\": [\n",
      "        \"Coined term 'vibe coding' (2025) - describing AI-assisted application development\"\n",
      "      ]\n",
      "    },\n",
      "    \"educational_contributions\": {\n",
      "      \"youtube_series\": \"Neural Networks: Zero to Hero\",\n",
      "      \"blog\": [\n",
      "        \"http://karpathy.github.io/\",\n",
      "        \"https://karpathy.bearblog.dev/\"\n",
      "      ],\n",
      "      \"teaching_approach\": \"Bridging complex AI concepts with practical applications\"\n",
      "    },\n",
      "    \"impact\": \"Inspires AI researchers and enthusiasts worldwide\",\n",
      "    \"resources\": {\n",
      "      \"linkedin\": \"https://www.linkedin.com/in/andrej-karpathy-9a650716\",\n",
      "      \"youtube\": \"https://www.youtube.com/andrejkarpathy\"\n",
      "    },\n",
      "    \"last_updated\": \"2025-04-27\"\n",
      "  }\n",
      "}\n",
      "```\n"
     ]
    }
   ],
   "source": [
    "for item in output[\"messages\"]:\n",
    "    item.pretty_print()"
   ]
  }
 ],
 "metadata": {
  "kernelspec": {
   "display_name": "Agents",
   "language": "python",
   "name": "python3"
  },
  "language_info": {
   "codemirror_mode": {
    "name": "ipython",
    "version": 3
   },
   "file_extension": ".py",
   "mimetype": "text/x-python",
   "name": "python",
   "nbconvert_exporter": "python",
   "pygments_lexer": "ipython3",
   "version": "3.12.11"
  }
 },
 "nbformat": 4,
 "nbformat_minor": 5
}
